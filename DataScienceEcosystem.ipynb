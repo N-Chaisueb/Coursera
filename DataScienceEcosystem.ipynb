{
  "nbformat": 4,
  "nbformat_minor": 0,
  "metadata": {
    "colab": {
      "provenance": []
    },
    "kernelspec": {
      "name": "python3",
      "display_name": "Python 3"
    },
    "language_info": {
      "name": "python"
    }
  },
  "cells": [
    {
      "cell_type": "markdown",
      "source": [
        "# Data Science Tools and Ecosystem"
      ],
      "metadata": {
        "id": "OcuGbw64vzZ0"
      }
    },
    {
      "cell_type": "markdown",
      "source": [
        "## Author\n",
        "Guypetch Singsuwan"
      ],
      "metadata": {
        "id": "Yxq2em_w1yK5"
      }
    },
    {
      "cell_type": "markdown",
      "source": [
        "In this notebook, Data Science Tools and Ecosystem are summarized."
      ],
      "metadata": {
        "id": "ZM8KW1Kk1xVy"
      }
    },
    {
      "cell_type": "markdown",
      "source": [
        "**Objectives:**\n",
        "\n",
        "\n",
        "*   List of popular languages for Data Science\n",
        "*   List of commonly used libraries used by Data Scientists\n",
        "*   Table of data science tools\n",
        "\n",
        "\n",
        "\n"
      ],
      "metadata": {
        "id": "cNNcXx8K05wy"
      }
    },
    {
      "cell_type": "markdown",
      "source": [
        "Some of the popular languages that Data Scientists use are:\n",
        "\n",
        "\n",
        "1.   Python\n",
        "2.   R\n",
        "3.   SQL\n",
        "\n"
      ],
      "metadata": {
        "id": "Mzl3VHq2wutz"
      }
    },
    {
      "cell_type": "markdown",
      "source": [
        "Some of the commonly used libraries used by Data Scientists include:\n",
        "\n",
        "\n",
        "1.   Panda\n",
        "2.   NumPy\n",
        "3.   Matplotlib\n",
        "\n"
      ],
      "metadata": {
        "id": "i6UIaxL3xj86"
      }
    },
    {
      "cell_type": "markdown",
      "source": [
        "#Table\n",
        "|Data Science Tools|\n",
        "|------------------|\n",
        "|My SQL            |\n",
        "|Hadoop            |\n",
        "|Kafka             |"
      ],
      "metadata": {
        "id": "wQmvOcMPyBBZ"
      }
    },
    {
      "cell_type": "markdown",
      "source": [
        "### Below are a few examples of evaluating arithmetic expressions in Python"
      ],
      "metadata": {
        "id": "BE6c7uFHzr7x"
      }
    },
    {
      "cell_type": "code",
      "source": [
        "#This a simple arithmetic expression to mutiply then add integers\n",
        "(3*4)+5"
      ],
      "metadata": {
        "colab": {
          "base_uri": "https://localhost:8080/"
        },
        "id": "RIV78G8QvzCy",
        "outputId": "411b360a-763a-4e1d-ce7f-878b63f99a32"
      },
      "execution_count": 6,
      "outputs": [
        {
          "output_type": "execute_result",
          "data": {
            "text/plain": [
              "17"
            ]
          },
          "metadata": {},
          "execution_count": 6
        }
      ]
    },
    {
      "cell_type": "code",
      "source": [
        "#This will convert 200 minutes to hours by diving by 60\n",
        "200/60"
      ],
      "metadata": {
        "colab": {
          "base_uri": "https://localhost:8080/"
        },
        "id": "nVj36JE4vyxa",
        "outputId": "9c73caa8-22f4-4d7b-ea28-a51a1184d965"
      },
      "execution_count": 8,
      "outputs": [
        {
          "output_type": "execute_result",
          "data": {
            "text/plain": [
              "3.3333333333333335"
            ]
          },
          "metadata": {},
          "execution_count": 8
        }
      ]
    }
  ]
}